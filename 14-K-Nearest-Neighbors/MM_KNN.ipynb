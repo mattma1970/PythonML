{
 "cells": [
  {
   "cell_type": "code",
   "execution_count": 1,
   "metadata": {
    "collapsed": true
   },
   "outputs": [],
   "source": [
    "import numpy as np\n",
    "import pandas as pd\n",
    "import matplotlib.pyplot as plt\n",
    "import seaborn as sns"
   ]
  },
  {
   "cell_type": "code",
   "execution_count": 2,
   "metadata": {
    "collapsed": true
   },
   "outputs": [],
   "source": [
    "%matplotlib inline"
   ]
  },
  {
   "cell_type": "code",
   "execution_count": 3,
   "metadata": {},
   "outputs": [
    {
     "name": "stdout",
     "output_type": "stream",
     "text": [
      " Volume in drive C is OS\n",
      " Volume Serial Number is 42DA-985D\n",
      "\n",
      " Directory of C:\\Users\\mattma\\Documents\\SelfEducation\\UdemyPython4DS\\Refactored_Py_DS_ML_Bootcamp-master\\14-K-Nearest-Neighbors\n",
      "\n",
      "26/11/2019  09:33 AM    <DIR>          .\n",
      "26/11/2019  09:33 AM    <DIR>          ..\n",
      "26/11/2019  09:31 AM    <DIR>          .ipynb_checkpoints\n",
      "07/11/2019  04:38 PM            46,236 01-K Nearest Neighbors with Python.ipynb\n",
      "07/11/2019  04:38 PM         1,928,939 02-K Nearest Neighbors Project.ipynb\n",
      "07/11/2019  04:38 PM         1,931,137 03-K Nearest Neighbors Project - Solutions.ipynb\n",
      "07/11/2019  04:38 PM           194,323 Classified Data\n",
      "07/11/2019  04:38 PM           186,020 KNN_Project_Data\n",
      "26/11/2019  09:33 AM               848 Untitled.ipynb\n",
      "               6 File(s)      4,287,503 bytes\n",
      "               3 Dir(s)  205,660,168,192 bytes free\n"
     ]
    }
   ],
   "source": [
    "ls"
   ]
  },
  {
   "cell_type": "code",
   "execution_count": 4,
   "metadata": {
    "collapsed": true
   },
   "outputs": [],
   "source": [
    "df = pd.read_csv('Classified Data', index_col=0)"
   ]
  },
  {
   "cell_type": "code",
   "execution_count": 5,
   "metadata": {},
   "outputs": [
    {
     "data": {
      "text/html": [
       "<div>\n",
       "<style>\n",
       "    .dataframe thead tr:only-child th {\n",
       "        text-align: right;\n",
       "    }\n",
       "\n",
       "    .dataframe thead th {\n",
       "        text-align: left;\n",
       "    }\n",
       "\n",
       "    .dataframe tbody tr th {\n",
       "        vertical-align: top;\n",
       "    }\n",
       "</style>\n",
       "<table border=\"1\" class=\"dataframe\">\n",
       "  <thead>\n",
       "    <tr style=\"text-align: right;\">\n",
       "      <th></th>\n",
       "      <th>WTT</th>\n",
       "      <th>PTI</th>\n",
       "      <th>EQW</th>\n",
       "      <th>SBI</th>\n",
       "      <th>LQE</th>\n",
       "      <th>QWG</th>\n",
       "      <th>FDJ</th>\n",
       "      <th>PJF</th>\n",
       "      <th>HQE</th>\n",
       "      <th>NXJ</th>\n",
       "      <th>TARGET CLASS</th>\n",
       "    </tr>\n",
       "  </thead>\n",
       "  <tbody>\n",
       "    <tr>\n",
       "      <th>0</th>\n",
       "      <td>0.913917</td>\n",
       "      <td>1.162073</td>\n",
       "      <td>0.567946</td>\n",
       "      <td>0.755464</td>\n",
       "      <td>0.780862</td>\n",
       "      <td>0.352608</td>\n",
       "      <td>0.759697</td>\n",
       "      <td>0.643798</td>\n",
       "      <td>0.879422</td>\n",
       "      <td>1.231409</td>\n",
       "      <td>1</td>\n",
       "    </tr>\n",
       "    <tr>\n",
       "      <th>1</th>\n",
       "      <td>0.635632</td>\n",
       "      <td>1.003722</td>\n",
       "      <td>0.535342</td>\n",
       "      <td>0.825645</td>\n",
       "      <td>0.924109</td>\n",
       "      <td>0.648450</td>\n",
       "      <td>0.675334</td>\n",
       "      <td>1.013546</td>\n",
       "      <td>0.621552</td>\n",
       "      <td>1.492702</td>\n",
       "      <td>0</td>\n",
       "    </tr>\n",
       "    <tr>\n",
       "      <th>2</th>\n",
       "      <td>0.721360</td>\n",
       "      <td>1.201493</td>\n",
       "      <td>0.921990</td>\n",
       "      <td>0.855595</td>\n",
       "      <td>1.526629</td>\n",
       "      <td>0.720781</td>\n",
       "      <td>1.626351</td>\n",
       "      <td>1.154483</td>\n",
       "      <td>0.957877</td>\n",
       "      <td>1.285597</td>\n",
       "      <td>0</td>\n",
       "    </tr>\n",
       "    <tr>\n",
       "      <th>3</th>\n",
       "      <td>1.234204</td>\n",
       "      <td>1.386726</td>\n",
       "      <td>0.653046</td>\n",
       "      <td>0.825624</td>\n",
       "      <td>1.142504</td>\n",
       "      <td>0.875128</td>\n",
       "      <td>1.409708</td>\n",
       "      <td>1.380003</td>\n",
       "      <td>1.522692</td>\n",
       "      <td>1.153093</td>\n",
       "      <td>1</td>\n",
       "    </tr>\n",
       "    <tr>\n",
       "      <th>4</th>\n",
       "      <td>1.279491</td>\n",
       "      <td>0.949750</td>\n",
       "      <td>0.627280</td>\n",
       "      <td>0.668976</td>\n",
       "      <td>1.232537</td>\n",
       "      <td>0.703727</td>\n",
       "      <td>1.115596</td>\n",
       "      <td>0.646691</td>\n",
       "      <td>1.463812</td>\n",
       "      <td>1.419167</td>\n",
       "      <td>1</td>\n",
       "    </tr>\n",
       "  </tbody>\n",
       "</table>\n",
       "</div>"
      ],
      "text/plain": [
       "        WTT       PTI       EQW       SBI       LQE       QWG       FDJ  \\\n",
       "0  0.913917  1.162073  0.567946  0.755464  0.780862  0.352608  0.759697   \n",
       "1  0.635632  1.003722  0.535342  0.825645  0.924109  0.648450  0.675334   \n",
       "2  0.721360  1.201493  0.921990  0.855595  1.526629  0.720781  1.626351   \n",
       "3  1.234204  1.386726  0.653046  0.825624  1.142504  0.875128  1.409708   \n",
       "4  1.279491  0.949750  0.627280  0.668976  1.232537  0.703727  1.115596   \n",
       "\n",
       "        PJF       HQE       NXJ  TARGET CLASS  \n",
       "0  0.643798  0.879422  1.231409             1  \n",
       "1  1.013546  0.621552  1.492702             0  \n",
       "2  1.154483  0.957877  1.285597             0  \n",
       "3  1.380003  1.522692  1.153093             1  \n",
       "4  0.646691  1.463812  1.419167             1  "
      ]
     },
     "execution_count": 5,
     "metadata": {},
     "output_type": "execute_result"
    }
   ],
   "source": [
    "df.head()"
   ]
  },
  {
   "cell_type": "code",
   "execution_count": 6,
   "metadata": {},
   "outputs": [
    {
     "data": {
      "text/html": [
       "<div>\n",
       "<style>\n",
       "    .dataframe thead tr:only-child th {\n",
       "        text-align: right;\n",
       "    }\n",
       "\n",
       "    .dataframe thead th {\n",
       "        text-align: left;\n",
       "    }\n",
       "\n",
       "    .dataframe tbody tr th {\n",
       "        vertical-align: top;\n",
       "    }\n",
       "</style>\n",
       "<table border=\"1\" class=\"dataframe\">\n",
       "  <thead>\n",
       "    <tr style=\"text-align: right;\">\n",
       "      <th></th>\n",
       "      <th>WTT</th>\n",
       "      <th>PTI</th>\n",
       "      <th>EQW</th>\n",
       "      <th>SBI</th>\n",
       "      <th>LQE</th>\n",
       "      <th>QWG</th>\n",
       "      <th>FDJ</th>\n",
       "      <th>PJF</th>\n",
       "      <th>HQE</th>\n",
       "      <th>NXJ</th>\n",
       "      <th>TARGET CLASS</th>\n",
       "    </tr>\n",
       "  </thead>\n",
       "  <tbody>\n",
       "    <tr>\n",
       "      <th>count</th>\n",
       "      <td>1000.000000</td>\n",
       "      <td>1000.000000</td>\n",
       "      <td>1000.000000</td>\n",
       "      <td>1000.000000</td>\n",
       "      <td>1000.000000</td>\n",
       "      <td>1000.000000</td>\n",
       "      <td>1000.000000</td>\n",
       "      <td>1000.000000</td>\n",
       "      <td>1000.000000</td>\n",
       "      <td>1000.000000</td>\n",
       "      <td>1000.00000</td>\n",
       "    </tr>\n",
       "    <tr>\n",
       "      <th>mean</th>\n",
       "      <td>0.949682</td>\n",
       "      <td>1.114303</td>\n",
       "      <td>0.834127</td>\n",
       "      <td>0.682099</td>\n",
       "      <td>1.032336</td>\n",
       "      <td>0.943534</td>\n",
       "      <td>0.963422</td>\n",
       "      <td>1.071960</td>\n",
       "      <td>1.158251</td>\n",
       "      <td>1.362725</td>\n",
       "      <td>0.50000</td>\n",
       "    </tr>\n",
       "    <tr>\n",
       "      <th>std</th>\n",
       "      <td>0.289635</td>\n",
       "      <td>0.257085</td>\n",
       "      <td>0.291554</td>\n",
       "      <td>0.229645</td>\n",
       "      <td>0.243413</td>\n",
       "      <td>0.256121</td>\n",
       "      <td>0.255118</td>\n",
       "      <td>0.288982</td>\n",
       "      <td>0.293738</td>\n",
       "      <td>0.204225</td>\n",
       "      <td>0.50025</td>\n",
       "    </tr>\n",
       "    <tr>\n",
       "      <th>min</th>\n",
       "      <td>0.174412</td>\n",
       "      <td>0.441398</td>\n",
       "      <td>0.170924</td>\n",
       "      <td>0.045027</td>\n",
       "      <td>0.315307</td>\n",
       "      <td>0.262389</td>\n",
       "      <td>0.295228</td>\n",
       "      <td>0.299476</td>\n",
       "      <td>0.365157</td>\n",
       "      <td>0.639693</td>\n",
       "      <td>0.00000</td>\n",
       "    </tr>\n",
       "    <tr>\n",
       "      <th>25%</th>\n",
       "      <td>0.742358</td>\n",
       "      <td>0.942071</td>\n",
       "      <td>0.615451</td>\n",
       "      <td>0.515010</td>\n",
       "      <td>0.870855</td>\n",
       "      <td>0.761064</td>\n",
       "      <td>0.784407</td>\n",
       "      <td>0.866306</td>\n",
       "      <td>0.934340</td>\n",
       "      <td>1.222623</td>\n",
       "      <td>0.00000</td>\n",
       "    </tr>\n",
       "    <tr>\n",
       "      <th>50%</th>\n",
       "      <td>0.940475</td>\n",
       "      <td>1.118486</td>\n",
       "      <td>0.813264</td>\n",
       "      <td>0.676835</td>\n",
       "      <td>1.035824</td>\n",
       "      <td>0.941502</td>\n",
       "      <td>0.945333</td>\n",
       "      <td>1.065500</td>\n",
       "      <td>1.165556</td>\n",
       "      <td>1.375368</td>\n",
       "      <td>0.50000</td>\n",
       "    </tr>\n",
       "    <tr>\n",
       "      <th>75%</th>\n",
       "      <td>1.163295</td>\n",
       "      <td>1.307904</td>\n",
       "      <td>1.028340</td>\n",
       "      <td>0.834317</td>\n",
       "      <td>1.198270</td>\n",
       "      <td>1.123060</td>\n",
       "      <td>1.134852</td>\n",
       "      <td>1.283156</td>\n",
       "      <td>1.383173</td>\n",
       "      <td>1.504832</td>\n",
       "      <td>1.00000</td>\n",
       "    </tr>\n",
       "    <tr>\n",
       "      <th>max</th>\n",
       "      <td>1.721779</td>\n",
       "      <td>1.833757</td>\n",
       "      <td>1.722725</td>\n",
       "      <td>1.634884</td>\n",
       "      <td>1.650050</td>\n",
       "      <td>1.666902</td>\n",
       "      <td>1.713342</td>\n",
       "      <td>1.785420</td>\n",
       "      <td>1.885690</td>\n",
       "      <td>1.893950</td>\n",
       "      <td>1.00000</td>\n",
       "    </tr>\n",
       "  </tbody>\n",
       "</table>\n",
       "</div>"
      ],
      "text/plain": [
       "               WTT          PTI          EQW          SBI          LQE  \\\n",
       "count  1000.000000  1000.000000  1000.000000  1000.000000  1000.000000   \n",
       "mean      0.949682     1.114303     0.834127     0.682099     1.032336   \n",
       "std       0.289635     0.257085     0.291554     0.229645     0.243413   \n",
       "min       0.174412     0.441398     0.170924     0.045027     0.315307   \n",
       "25%       0.742358     0.942071     0.615451     0.515010     0.870855   \n",
       "50%       0.940475     1.118486     0.813264     0.676835     1.035824   \n",
       "75%       1.163295     1.307904     1.028340     0.834317     1.198270   \n",
       "max       1.721779     1.833757     1.722725     1.634884     1.650050   \n",
       "\n",
       "               QWG          FDJ          PJF          HQE          NXJ  \\\n",
       "count  1000.000000  1000.000000  1000.000000  1000.000000  1000.000000   \n",
       "mean      0.943534     0.963422     1.071960     1.158251     1.362725   \n",
       "std       0.256121     0.255118     0.288982     0.293738     0.204225   \n",
       "min       0.262389     0.295228     0.299476     0.365157     0.639693   \n",
       "25%       0.761064     0.784407     0.866306     0.934340     1.222623   \n",
       "50%       0.941502     0.945333     1.065500     1.165556     1.375368   \n",
       "75%       1.123060     1.134852     1.283156     1.383173     1.504832   \n",
       "max       1.666902     1.713342     1.785420     1.885690     1.893950   \n",
       "\n",
       "       TARGET CLASS  \n",
       "count    1000.00000  \n",
       "mean        0.50000  \n",
       "std         0.50025  \n",
       "min         0.00000  \n",
       "25%         0.00000  \n",
       "50%         0.50000  \n",
       "75%         1.00000  \n",
       "max         1.00000  "
      ]
     },
     "execution_count": 6,
     "metadata": {},
     "output_type": "execute_result"
    }
   ],
   "source": [
    "df.describe()"
   ]
  },
  {
   "cell_type": "code",
   "execution_count": 7,
   "metadata": {
    "collapsed": true
   },
   "outputs": [],
   "source": [
    "from sklearn.preprocessing import StandardScaler"
   ]
  },
  {
   "cell_type": "code",
   "execution_count": 8,
   "metadata": {
    "collapsed": true
   },
   "outputs": [],
   "source": [
    "scaler = StandardScaler()"
   ]
  },
  {
   "cell_type": "markdown",
   "metadata": {},
   "source": [
    "scaling is identical to the way its done in spark mllib - scaler is an estimator and you call transform on it to produce the scaled features"
   ]
  },
  {
   "cell_type": "code",
   "execution_count": 9,
   "metadata": {},
   "outputs": [
    {
     "data": {
      "text/plain": [
       "StandardScaler(copy=True, with_mean=True, with_std=True)"
      ]
     },
     "execution_count": 9,
     "metadata": {},
     "output_type": "execute_result"
    }
   ],
   "source": [
    "scaler.fit(df.drop(\"TARGET CLASS\", axis=1))"
   ]
  },
  {
   "cell_type": "code",
   "execution_count": 10,
   "metadata": {
    "collapsed": true
   },
   "outputs": [],
   "source": [
    "scaled_features = scaler.transform(df.drop(\"TARGET CLASS\", axis=1))"
   ]
  },
  {
   "cell_type": "code",
   "execution_count": 21,
   "metadata": {},
   "outputs": [
    {
     "data": {
      "text/plain": [
       "array([[-0.12354188,  0.18590747, -0.91343069, ..., -1.48236813,\n",
       "        -0.9497194 , -0.64331425],\n",
       "       [-1.08483602, -0.43034845, -1.02531333, ..., -0.20224031,\n",
       "        -1.82805088,  0.63675862],\n",
       "       [-0.78870217,  0.33931821,  0.30151137, ...,  0.28570652,\n",
       "        -0.68249379, -0.37784986],\n",
       "       ..., \n",
       "       [ 0.64177714, -0.51308341, -0.17920486, ..., -2.36249443,\n",
       "        -0.81426092,  0.11159651],\n",
       "       [ 0.46707241, -0.98278576, -1.46519359, ..., -0.03677699,\n",
       "         0.40602453, -0.85567   ],\n",
       "       [-0.38765353, -0.59589427, -1.4313981 , ..., -0.56778932,\n",
       "         0.3369971 ,  0.01034996]])"
      ]
     },
     "execution_count": 21,
     "metadata": {},
     "output_type": "execute_result"
    }
   ],
   "source": [
    "scaled_features"
   ]
  },
  {
   "cell_type": "code",
   "execution_count": 22,
   "metadata": {
    "collapsed": true
   },
   "outputs": [],
   "source": [
    "df_scaled = pd.DataFrame(scaled_features,columns=df.columns[:-1])"
   ]
  },
  {
   "cell_type": "code",
   "execution_count": 24,
   "metadata": {},
   "outputs": [
    {
     "data": {
      "text/html": [
       "<div>\n",
       "<style>\n",
       "    .dataframe thead tr:only-child th {\n",
       "        text-align: right;\n",
       "    }\n",
       "\n",
       "    .dataframe thead th {\n",
       "        text-align: left;\n",
       "    }\n",
       "\n",
       "    .dataframe tbody tr th {\n",
       "        vertical-align: top;\n",
       "    }\n",
       "</style>\n",
       "<table border=\"1\" class=\"dataframe\">\n",
       "  <thead>\n",
       "    <tr style=\"text-align: right;\">\n",
       "      <th></th>\n",
       "      <th>WTT</th>\n",
       "      <th>PTI</th>\n",
       "      <th>EQW</th>\n",
       "      <th>SBI</th>\n",
       "      <th>LQE</th>\n",
       "      <th>QWG</th>\n",
       "      <th>FDJ</th>\n",
       "      <th>PJF</th>\n",
       "      <th>HQE</th>\n",
       "      <th>NXJ</th>\n",
       "    </tr>\n",
       "  </thead>\n",
       "  <tbody>\n",
       "    <tr>\n",
       "      <th>count</th>\n",
       "      <td>1.000000e+03</td>\n",
       "      <td>1.000000e+03</td>\n",
       "      <td>1.000000e+03</td>\n",
       "      <td>1.000000e+03</td>\n",
       "      <td>1.000000e+03</td>\n",
       "      <td>1.000000e+03</td>\n",
       "      <td>1.000000e+03</td>\n",
       "      <td>1.000000e+03</td>\n",
       "      <td>1.000000e+03</td>\n",
       "      <td>1.000000e+03</td>\n",
       "    </tr>\n",
       "    <tr>\n",
       "      <th>mean</th>\n",
       "      <td>1.394440e-16</td>\n",
       "      <td>-2.658984e-16</td>\n",
       "      <td>-9.992007e-17</td>\n",
       "      <td>-1.432188e-16</td>\n",
       "      <td>-6.134537e-16</td>\n",
       "      <td>2.486900e-17</td>\n",
       "      <td>6.682432e-16</td>\n",
       "      <td>-4.778400e-16</td>\n",
       "      <td>3.358980e-16</td>\n",
       "      <td>4.650169e-16</td>\n",
       "    </tr>\n",
       "    <tr>\n",
       "      <th>std</th>\n",
       "      <td>1.000500e+00</td>\n",
       "      <td>1.000500e+00</td>\n",
       "      <td>1.000500e+00</td>\n",
       "      <td>1.000500e+00</td>\n",
       "      <td>1.000500e+00</td>\n",
       "      <td>1.000500e+00</td>\n",
       "      <td>1.000500e+00</td>\n",
       "      <td>1.000500e+00</td>\n",
       "      <td>1.000500e+00</td>\n",
       "      <td>1.000500e+00</td>\n",
       "    </tr>\n",
       "    <tr>\n",
       "      <th>min</th>\n",
       "      <td>-2.678050e+00</td>\n",
       "      <td>-2.618747e+00</td>\n",
       "      <td>-2.275858e+00</td>\n",
       "      <td>-2.775551e+00</td>\n",
       "      <td>-2.947206e+00</td>\n",
       "      <td>-2.660802e+00</td>\n",
       "      <td>-2.620466e+00</td>\n",
       "      <td>-2.674465e+00</td>\n",
       "      <td>-2.701361e+00</td>\n",
       "      <td>-3.542140e+00</td>\n",
       "    </tr>\n",
       "    <tr>\n",
       "      <th>25%</th>\n",
       "      <td>-7.161683e-01</td>\n",
       "      <td>-6.702761e-01</td>\n",
       "      <td>-7.504105e-01</td>\n",
       "      <td>-7.279635e-01</td>\n",
       "      <td>-6.637361e-01</td>\n",
       "      <td>-7.127975e-01</td>\n",
       "      <td>-7.020467e-01</td>\n",
       "      <td>-7.120098e-01</td>\n",
       "      <td>-7.626629e-01</td>\n",
       "      <td>-6.863610e-01</td>\n",
       "    </tr>\n",
       "    <tr>\n",
       "      <th>50%</th>\n",
       "      <td>-3.180217e-02</td>\n",
       "      <td>1.628137e-02</td>\n",
       "      <td>-7.159299e-02</td>\n",
       "      <td>-2.293699e-02</td>\n",
       "      <td>1.433731e-02</td>\n",
       "      <td>-7.940354e-03</td>\n",
       "      <td>-7.093937e-02</td>\n",
       "      <td>-2.236584e-02</td>\n",
       "      <td>2.488297e-02</td>\n",
       "      <td>6.194010e-02</td>\n",
       "    </tr>\n",
       "    <tr>\n",
       "      <th>75%</th>\n",
       "      <td>7.378939e-01</td>\n",
       "      <td>7.534412e-01</td>\n",
       "      <td>6.664646e-01</td>\n",
       "      <td>6.631695e-01</td>\n",
       "      <td>6.820374e-01</td>\n",
       "      <td>7.012930e-01</td>\n",
       "      <td>6.723000e-01</td>\n",
       "      <td>7.311915e-01</td>\n",
       "      <td>7.661087e-01</td>\n",
       "      <td>6.961851e-01</td>\n",
       "    </tr>\n",
       "    <tr>\n",
       "      <th>max</th>\n",
       "      <td>2.667092e+00</td>\n",
       "      <td>2.799904e+00</td>\n",
       "      <td>3.049325e+00</td>\n",
       "      <td>4.151021e+00</td>\n",
       "      <td>2.538987e+00</td>\n",
       "      <td>2.825739e+00</td>\n",
       "      <td>2.940974e+00</td>\n",
       "      <td>2.470109e+00</td>\n",
       "      <td>2.477734e+00</td>\n",
       "      <td>2.602476e+00</td>\n",
       "    </tr>\n",
       "  </tbody>\n",
       "</table>\n",
       "</div>"
      ],
      "text/plain": [
       "                WTT           PTI           EQW           SBI           LQE  \\\n",
       "count  1.000000e+03  1.000000e+03  1.000000e+03  1.000000e+03  1.000000e+03   \n",
       "mean   1.394440e-16 -2.658984e-16 -9.992007e-17 -1.432188e-16 -6.134537e-16   \n",
       "std    1.000500e+00  1.000500e+00  1.000500e+00  1.000500e+00  1.000500e+00   \n",
       "min   -2.678050e+00 -2.618747e+00 -2.275858e+00 -2.775551e+00 -2.947206e+00   \n",
       "25%   -7.161683e-01 -6.702761e-01 -7.504105e-01 -7.279635e-01 -6.637361e-01   \n",
       "50%   -3.180217e-02  1.628137e-02 -7.159299e-02 -2.293699e-02  1.433731e-02   \n",
       "75%    7.378939e-01  7.534412e-01  6.664646e-01  6.631695e-01  6.820374e-01   \n",
       "max    2.667092e+00  2.799904e+00  3.049325e+00  4.151021e+00  2.538987e+00   \n",
       "\n",
       "                QWG           FDJ           PJF           HQE           NXJ  \n",
       "count  1.000000e+03  1.000000e+03  1.000000e+03  1.000000e+03  1.000000e+03  \n",
       "mean   2.486900e-17  6.682432e-16 -4.778400e-16  3.358980e-16  4.650169e-16  \n",
       "std    1.000500e+00  1.000500e+00  1.000500e+00  1.000500e+00  1.000500e+00  \n",
       "min   -2.660802e+00 -2.620466e+00 -2.674465e+00 -2.701361e+00 -3.542140e+00  \n",
       "25%   -7.127975e-01 -7.020467e-01 -7.120098e-01 -7.626629e-01 -6.863610e-01  \n",
       "50%   -7.940354e-03 -7.093937e-02 -2.236584e-02  2.488297e-02  6.194010e-02  \n",
       "75%    7.012930e-01  6.723000e-01  7.311915e-01  7.661087e-01  6.961851e-01  \n",
       "max    2.825739e+00  2.940974e+00  2.470109e+00  2.477734e+00  2.602476e+00  "
      ]
     },
     "execution_count": 24,
     "metadata": {},
     "output_type": "execute_result"
    }
   ],
   "source": [
    "df_scaled.describe()"
   ]
  },
  {
   "cell_type": "code",
   "execution_count": 27,
   "metadata": {},
   "outputs": [
    {
     "name": "stderr",
     "output_type": "stream",
     "text": [
      "C:\\Program Files (x86)\\Microsoft Visual Studio\\Shared\\Anaconda3_64\\lib\\site-packages\\sklearn\\cross_validation.py:41: DeprecationWarning: This module was deprecated in version 0.18 in favor of the model_selection module into which all the refactored classes and functions are moved. Also note that the interface of the new CV iterators are different from that of this module. This module will be removed in 0.20.\n",
      "  \"This module will be removed in 0.20.\", DeprecationWarning)\n"
     ]
    }
   ],
   "source": [
    "from sklearn.cross_validation import train_test_split"
   ]
  },
  {
   "cell_type": "code",
   "execution_count": 29,
   "metadata": {},
   "outputs": [],
   "source": [
    "X_train, X_test, y_train, y_test = train_test_split(\n",
    "...     df_scaled, df[\"TARGET CLASS\"], test_size=0.3, random_state=101)"
   ]
  },
  {
   "cell_type": "code",
   "execution_count": 30,
   "metadata": {
    "collapsed": true
   },
   "outputs": [],
   "source": [
    "from sklearn.neighbors import KNeighborsClassifier"
   ]
  },
  {
   "cell_type": "code",
   "execution_count": 31,
   "metadata": {
    "collapsed": true
   },
   "outputs": [],
   "source": [
    "knn = KNeighborsClassifier(n_neighbors=1)"
   ]
  },
  {
   "cell_type": "code",
   "execution_count": 32,
   "metadata": {},
   "outputs": [
    {
     "data": {
      "text/plain": [
       "KNeighborsClassifier(algorithm='auto', leaf_size=30, metric='minkowski',\n",
       "           metric_params=None, n_jobs=1, n_neighbors=1, p=2,\n",
       "           weights='uniform')"
      ]
     },
     "execution_count": 32,
     "metadata": {},
     "output_type": "execute_result"
    }
   ],
   "source": [
    "knn.fit(X_train, y_train)"
   ]
  },
  {
   "cell_type": "code",
   "execution_count": 33,
   "metadata": {
    "collapsed": true
   },
   "outputs": [],
   "source": [
    "pred= knn.predict(X_test)"
   ]
  },
  {
   "cell_type": "code",
   "execution_count": 35,
   "metadata": {},
   "outputs": [
    {
     "data": {
      "text/plain": [
       "300"
      ]
     },
     "execution_count": 35,
     "metadata": {},
     "output_type": "execute_result"
    }
   ],
   "source": [
    "pred.size"
   ]
  },
  {
   "cell_type": "code",
   "execution_count": 36,
   "metadata": {
    "collapsed": true
   },
   "outputs": [],
   "source": [
    "from sklearn.metrics import classification_report, confusion_matrix"
   ]
  },
  {
   "cell_type": "code",
   "execution_count": 37,
   "metadata": {},
   "outputs": [
    {
     "name": "stdout",
     "output_type": "stream",
     "text": [
      "[[151   8]\n",
      " [ 15 126]]\n",
      "             precision    recall  f1-score   support\n",
      "\n",
      "          0       0.91      0.95      0.93       159\n",
      "          1       0.94      0.89      0.92       141\n",
      "\n",
      "avg / total       0.92      0.92      0.92       300\n",
      "\n"
     ]
    }
   ],
   "source": [
    "print (confusion_matrix(y_test, pred))\n",
    "print (classification_report(y_test,pred))"
   ]
  },
  {
   "cell_type": "code",
   "execution_count": 40,
   "metadata": {},
   "outputs": [],
   "source": [
    "error_rate = []\n",
    "for i in range(1,40):\n",
    "    knn = KNeighborsClassifier(n_neighbors=i)\n",
    "    knn.fit(X_train,y_train)\n",
    "    pred_i = knn.predict(X_test)\n",
    "    error_rate.append(np.mean(pred_i != y_test))"
   ]
  },
  {
   "cell_type": "code",
   "execution_count": 56,
   "metadata": {},
   "outputs": [
    {
     "data": {
      "text/plain": [
       "<matplotlib.text.Text at 0xdcbae48>"
      ]
     },
     "execution_count": 56,
     "metadata": {},
     "output_type": "execute_result"
    },
    {
     "data": {
      "image/png": "[encoded data removed]",
      "text/plain": [
       "<matplotlib.figure.Figure at 0xdcaa128>"
      ]
     },
     "metadata": {},
     "output_type": "display_data"
    }
   ],
   "source": [
    "plt.figure(figsize=(10,6))\n",
    "plt.plot(range(1,40), error_rate,color='blue',linestyle='--',marker='o')\n",
    "plt.title('Error rate vs k')\n",
    "plt.xlabel('K')\n",
    "plt.ylabel('error rate')"
   ]
  },
  {
   "cell_type": "code",
   "execution_count": 62,
   "metadata": {},
   "outputs": [
    {
     "data": {
      "text/plain": [
       "KNeighborsClassifier(algorithm='auto', leaf_size=30, metric='minkowski',\n",
       "           metric_params=None, n_jobs=1, n_neighbors=10, p=2,\n",
       "           weights='uniform')"
      ]
     },
     "execution_count": 62,
     "metadata": {},
     "output_type": "execute_result"
    }
   ],
   "source": [
    "knn=KNeighborsClassifier(n_neighbors=10)\n",
    "knn.fit(X_train,y_train)"
   ]
  },
  {
   "cell_type": "code",
   "execution_count": 63,
   "metadata": {},
   "outputs": [],
   "source": [
    "preds = knn.predict(X_test)"
   ]
  },
  {
   "cell_type": "code",
   "execution_count": 65,
   "metadata": {},
   "outputs": [
    {
     "name": "stdout",
     "output_type": "stream",
     "text": [
      "             precision    recall  f1-score   support\n",
      "\n",
      "          0       0.93      0.97      0.95       159\n",
      "          1       0.96      0.91      0.94       141\n",
      "\n",
      "avg / total       0.94      0.94      0.94       300\n",
      "\n",
      "<html><b>Test</b></html>\n"
     ]
    }
   ],
   "source": [
    "print(classification_report(y_test,preds))\n"
   ]
  },
  {
   "cell_type": "code",
   "execution_count": null,
   "metadata": {
    "collapsed": true
   },
   "outputs": [],
   "source": []
  }
 ],
 "metadata": {
  "kernelspec": {
   "display_name": "Python 3",
   "language": "python",
   "name": "python3"
  },
  "language_info": {
   "codemirror_mode": {
    "name": "ipython",
    "version": 3
   },
   "file_extension": ".py",
   "mimetype": "text/x-python",
   "name": "python",
   "nbconvert_exporter": "python",
   "pygments_lexer": "ipython3",
   "version": "3.6.2"
  }
 },
 "nbformat": 4,
 "nbformat_minor": 2
}
